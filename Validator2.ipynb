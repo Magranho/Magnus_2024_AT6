{
 "cells": [
  {
   "cell_type": "code",
   "execution_count": 4,
   "metadata": {},
   "outputs": [],
   "source": [
    "#Validator class (need to re-write class code, as I'm using .ipynb)\n",
    "class UserInputValidator():\n",
    "    def __init__(self, input_list):\n",
    "        self.input_list = [int(x) for x in input_list]\n",
    "\n",
    "    def display_message(self):\n",
    "        print(\"List of numbers has been validated.\")\n",
    "\n",
    "    def validate_positive_integers(self):\n",
    "        new_list = []\n",
    "        for x in self.input_list:\n",
    "            if x > 0:\n",
    "                new_list.append(x)\n",
    "        self.display_message()\n",
    "        return new_list\n",
    "        \n",
    "#Instantiations of validator class, with example lists\n",
    "list_of_inputs = [\"1\", \"-1\", \"2\", \"-2\"]\n",
    "validator = UserInputValidator(list_of_inputs)\n",
    "\n",
    "list_of_inputs2 = [\"4\", \"-9\", \"0\", \"-6\"]\n",
    "validator2 = UserInputValidator(list_of_inputs2)"
   ]
  },
  {
   "cell_type": "code",
   "execution_count": null,
   "metadata": {},
   "outputs": [],
   "source": []
  }
 ],
 "metadata": {
  "kernelspec": {
   "display_name": "base",
   "language": "python",
   "name": "python3"
  },
  "language_info": {
   "codemirror_mode": {
    "name": "ipython",
    "version": 3
   },
   "file_extension": ".py",
   "mimetype": "text/x-python",
   "name": "python",
   "nbconvert_exporter": "python",
   "pygments_lexer": "ipython3",
   "version": "3.11.4"
  }
 },
 "nbformat": 4,
 "nbformat_minor": 2
}
