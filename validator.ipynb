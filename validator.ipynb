{
 "cells": [
  {
   "cell_type": "code",
   "execution_count": 1,
   "metadata": {},
   "outputs": [
    {
     "name": "stdout",
     "output_type": "stream",
     "text": [
      "[1, 2]\n"
     ]
    }
   ],
   "source": [
    "#Validator class\n",
    "class UserInputValidator():\n",
    "    def __init__(self, input_list):\n",
    "        self.input_list = [int(x) for x in input_list]\n",
    "\n",
    "    def validate_positive_integers(self):\n",
    "        new_list = []\n",
    "        for x in self.input_list:\n",
    "            if x > 0:\n",
    "                new_list.append(x)\n",
    "        return new_list\n",
    "\n",
    "#Instantiation of validator class, with example list\n",
    "list_of_inputs = [\"1\", \"-1\", \"2\", \"-2\"]\n",
    "validator = UserInputValidator(list_of_inputs)\n",
    "\n",
    "\n",
    "#example of use\n",
    "validated_list = validator.validate_positive_integers()\n",
    "print(validated_list)"
   ]
  }
 ],
 "metadata": {
  "kernelspec": {
   "display_name": "base",
   "language": "python",
   "name": "python3"
  },
  "language_info": {
   "codemirror_mode": {
    "name": "ipython",
    "version": 3
   },
   "file_extension": ".py",
   "mimetype": "text/x-python",
   "name": "python",
   "nbconvert_exporter": "python",
   "pygments_lexer": "ipython3",
   "version": "3.11.4"
  }
 },
 "nbformat": 4,
 "nbformat_minor": 2
}
